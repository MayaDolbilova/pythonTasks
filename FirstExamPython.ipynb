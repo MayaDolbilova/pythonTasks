{
 "cells": [
  {
   "cell_type": "markdown",
   "id": "d7a6e8ad",
   "metadata": {},
   "source": [
    "Write a program which prompts the user for a Celsius temperature, convert the temperature to Fahrenheit, and print out the converted temperature."
   ]
  },
  {
   "cell_type": "code",
   "execution_count": 1,
   "id": "dfab5199",
   "metadata": {},
   "outputs": [
    {
     "name": "stdout",
     "output_type": "stream",
     "text": [
      "Give a temperature in Celsius: 10\n",
      "Temperature in Fahrenheit:  50.0\n"
     ]
    }
   ],
   "source": [
    "celsius=int(input(\"Give a temperature in Celsius: \"))\n",
    "fahrenheit = celsius*1.8+32\n",
    "print(\"Temperature in Fahrenheit: \", fahrenheit)"
   ]
  },
  {
   "cell_type": "markdown",
   "id": "fb3db34d",
   "metadata": {},
   "source": [
    "Help Dasha determine if the year with the given number is a leap year. If the year is a leap year, then output - YES, otherwise output - NO.\n",
    "\n",
    "Remember that according to the Gregorian calendar, a year is a leap year if its number is divisible by 4, but not divisible by 100, and also if it is divisible by 400.\n",
    "\n",
    "INPUT FORMAT:\n",
    "\n",
    " N - year number (positive integer)\n",
    "\n",
    "OUTPUT FORMAT:\n",
    "\n",
    " Line. \"YES\" or \"NO\""
   ]
  },
  {
   "cell_type": "code",
   "execution_count": 12,
   "id": "33a07400",
   "metadata": {},
   "outputs": [
    {
     "name": "stdout",
     "output_type": "stream",
     "text": [
      "Give a year 2000\n",
      "YES. This is a leap year.\n"
     ]
    }
   ],
   "source": [
    "year=int(input(\"Give a year \"))\n",
    "if year % 4 == 0 and year % 100 != 0 or year % 400 == 0:\n",
    "        print(\"YES. This is a leap year.\")\n",
    "else:\n",
    "        print(\"NO. This is not a leap year.\")"
   ]
  },
  {
   "cell_type": "markdown",
   "id": "f7d6dc6b",
   "metadata": {},
   "source": [
    "A sequence consists of natural numbers and ends with 0. Determine how many elements of this sequence are greater than the previous element.\n",
    "\n",
    "INPUT FORMAT:\n",
    "\n",
    " A sequence of integers is introduced, ending with the number 0 (the number 0 itself is not included in the sequence, but serves as a sign of its end).\n",
    " Each number is entered on a new line.\n",
    "\n",
    "OUTPUT FORMAT:\n",
    "\n",
    " One number, the answer to the problem.\n",
    "\n",
    "Prompt\n",
    "\n",
    " Process the first number before the loop and store it in a separate variable (previous number).\n",
    "\n",
    "Input:\n",
    "\n",
    "1\n",
    "\n",
    "3\n",
    "\n",
    "5\n",
    "\n",
    "0\n",
    "\n",
    "Output: 2 ( 3 is greater than 1, 5 is greater than 3)"
   ]
  },
  {
   "cell_type": "code",
   "execution_count": 19,
   "id": "8de11d6f",
   "metadata": {},
   "outputs": [
    {
     "name": "stdout",
     "output_type": "stream",
     "text": [
      "Give a number. Press 0, if you'd like to stop and find out the result. 9\n",
      "Give a number. Press 0, if you'd like to stop and find out the result. 4\n",
      "Give a number. Press 0, if you'd like to stop and find out the result. 3\n",
      "Give a number. Press 0, if you'd like to stop and find out the result. 6\n",
      "6  greater than  3\n",
      "Give a number. Press 0, if you'd like to stop and find out the result. 8\n",
      "8  greater than  6\n",
      "Give a number. Press 0, if you'd like to stop and find out the result. 0\n",
      "2\n"
     ]
    }
   ],
   "source": [
    "number=1\n",
    "count=0\n",
    "previous_number=0\n",
    "b=0\n",
    "while number!=0:\n",
    "    number=int(input(\"Give a number. Press 0, if you'd like to stop and find out the result. \"))\n",
    "    if number>previous_number and b!=0:\n",
    "        count+=1\n",
    "        print(number,\" greater than \",previous_number)\n",
    "    previous_number=number\n",
    "    b+=1\n",
    "print(count)\n",
    "    \n",
    "    \n",
    "    "
   ]
  },
  {
   "cell_type": "markdown",
   "id": "a29aadd9",
   "metadata": {},
   "source": [
    "Given is a string. Your should return a list of all the indexes in the string that have capital letters.\n",
    "\n",
    "For example, input:(\"HeLlO\") should return the list [0, 2, 4]."
   ]
  },
  {
   "cell_type": "code",
   "execution_count": 317,
   "id": "d4f6bd5f",
   "metadata": {},
   "outputs": [
    {
     "name": "stdout",
     "output_type": "stream",
     "text": [
      "HeLLo\n",
      "[0, 2, 3]\n"
     ]
    }
   ],
   "source": [
    "d=input()\n",
    "l=[]\n",
    "k=[]\n",
    "for i, letter in enumerate(d):\n",
    "    if letter.isupper()==True:\n",
    "        l.append(i)\n",
    "print(l)\n",
    "\n"
   ]
  },
  {
   "cell_type": "markdown",
   "id": "ffe3abd0",
   "metadata": {},
   "source": [
    "You have two lists, the first contains the names of the guests, and the second contains their favorite dishes. You need to print out their preferences so that a sentence like “Eric loves borsch” is displayed. It is guaranteed that the lists are of the same length.\n",
    "\n",
    "INPUT FORMAT:\n",
    "\n",
    " Two lines.\n",
    " The first line contains names separated by a space.\n",
    " The second line contains the names of the dishes separated by a space.\n",
    "\n",
    "OUTPUT FORMAT:\n",
    "\n",
    " A set of strings like '{name} likes {dish}\n",
    "\n",
    "Example:\n",
    "\n",
    "Line1 = Peter Kate John\n",
    "\n",
    "Line2 = Pudding Fish Cake\n",
    "\n",
    "Output:\n",
    "\n",
    "     Peter likes Pudding\n",
    "\n",
    "     Kate likes Fish\n",
    "\n",
    "     John likes Cake"
   ]
  },
  {
   "cell_type": "code",
   "execution_count": 324,
   "id": "59665530",
   "metadata": {},
   "outputs": [
    {
     "name": "stdout",
     "output_type": "stream",
     "text": [
      "Give a name. Put 0, if you'd like to stop Ann\n",
      "Give a name. Put 0, if you'd like to stop Masha\n",
      "Give a name. Put 0, if you'd like to stop Natasha\n",
      "Give a name. Put 0, if you'd like to stop 0\n",
      "Give a dish. Put 0, if you'd like to stop Sweet\n",
      "Give a dish. Put 0, if you'd like to stop Meat\n",
      "Give a dish. Put 0, if you'd like to stop 0\n",
      "Not enough dishes. Add 1 more\n",
      "Give a dish. Put 0, if you'd like to stop Coffe\n",
      "Ann likes Sweet\n",
      "Masha likes Meat\n",
      "Natasha likes Coffe\n"
     ]
    }
   ],
   "source": [
    "names=[]\n",
    "dishes=[]\n",
    "a=1\n",
    "b=1\n",
    "while a!=0:\n",
    "    a=input(\"Give a name. Put 0, if you'd like to stop \")\n",
    "    if a==\"0\":\n",
    "        a=int(0)\n",
    "        break\n",
    "    names.append(a)\n",
    "while len(names)>len(dishes):\n",
    "    b=input(\"Give a dish. Put 0, if you'd like to stop \")\n",
    "    if b==\"0\":\n",
    "        if len(dishes)<len(names):\n",
    "            print(\"Not enough dishes. Add \"+ str(len(names)-len(dishes))+\" more\")\n",
    "            continue\n",
    "        b=int(0)\n",
    "        break\n",
    "    dishes.append(b)\n",
    "i=0\n",
    "while i<len(names):\n",
    "    print(names[i],\"likes\", dishes[i])\n",
    "    i+=1\n",
    "\n",
    "\n",
    " "
   ]
  },
  {
   "cell_type": "markdown",
   "id": "a73dd1d0",
   "metadata": {},
   "source": [
    "🗺️ You would be given a map of the world in a type of string:\n",
    "\n",
    "string s = \"01000000X000X011X0X\"\n",
    "\n",
    "'0' : uninfected\n",
    "\n",
    "'1' : infected\n",
    "\n",
    "'X' : ocean\n",
    "\n",
    "⚫ The virus can't spread in the other side of the ocean.\n",
    "\n",
    "⚫ If one person is infected every person in this continent gets infected too.\n",
    "\n",
    "⚫ Your task is to find the percentage of human population that got infected in the end.\n",
    "\n",
    "☑️ Return the percentage % of the total population that got infected.\n",
    "\n",
    "❗❗ The first and the last continent are not connected!\n",
    "\n",
    "💡 Example:\n",
    "\n",
    "start: map1 = \"01000000X000X011X0X\"\n",
    "\n",
    "end: map1 = \"11111111X000X111X0X\"\n",
    "\n",
    "total = 15\n",
    "\n",
    "infected = 11\n",
    "\n",
    "percentage = 100*11/15 = 73.33333333333333\n",
    "\n",
    "➕ For maps without oceans \"X\" the whole world is connected.\n",
    "\n",
    "➕ For maps without \"0\" and \"1\" return 0 as there is no population."
   ]
  },
  {
   "cell_type": "code",
   "execution_count": 20,
   "id": "bb34f926",
   "metadata": {},
   "outputs": [
    {
     "name": "stdout",
     "output_type": "stream",
     "text": [
      "0111X00000X010101X0000X010XX0\n",
      "total:  23\n",
      "infected:  13\n",
      "56.52173913043478 %\n"
     ]
    }
   ],
   "source": [
    "map1=input()\n",
    "l=[]\n",
    "a=[]\n",
    "string=\"1\"\n",
    "string_two=\"0\"\n",
    "if string not in map1 and string_two not in map1:\n",
    "    print(\"0:no population\")\n",
    "    total=1\n",
    "    \n",
    "else:\n",
    "    if \"X\" not in map1:\n",
    "            a=map1\n",
    "    a=map1.split(\"X\")\n",
    "    if map1[-1]==\"X\":\n",
    "            a.pop(-1)\n",
    "            total=(len(map1)-len(a))\n",
    "    else:\n",
    "            total=(len(map1)-len(a)+1)\n",
    "\n",
    "for word in a:\n",
    "    for letter in word:\n",
    "        if string in word:\n",
    "            l.append(1)\n",
    "            \n",
    "infected=len(l)\n",
    "print(\"total: \",total)\n",
    "print(\"infected: \",infected)\n",
    "percentage=100*infected/total\n",
    "print(percentage,\"%\")\n",
    "            \n"
   ]
  },
  {
   "cell_type": "code",
   "execution_count": null,
   "id": "71409b55",
   "metadata": {},
   "outputs": [],
   "source": []
  },
  {
   "cell_type": "code",
   "execution_count": null,
   "id": "a0a80ea4",
   "metadata": {},
   "outputs": [],
   "source": []
  }
 ],
 "metadata": {
  "kernelspec": {
   "display_name": "Python 3",
   "language": "python",
   "name": "python3"
  },
  "language_info": {
   "codemirror_mode": {
    "name": "ipython",
    "version": 3
   },
   "file_extension": ".py",
   "mimetype": "text/x-python",
   "name": "python",
   "nbconvert_exporter": "python",
   "pygments_lexer": "ipython3",
   "version": "3.8.8"
  }
 },
 "nbformat": 4,
 "nbformat_minor": 5
}
