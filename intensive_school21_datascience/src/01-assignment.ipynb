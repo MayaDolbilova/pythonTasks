{
 "cells": [
  {
   "cell_type": "markdown",
   "id": "fffcbb2c-4423-4f1c-bc90-e1ac7fbaa456",
   "metadata": {},
   "source": [
    "# Задания "
   ]
  },
  {
   "cell_type": "markdown",
   "id": "c2d747fe-7b74-43e0-95b3-16525e9846ac",
   "metadata": {},
   "source": [
    "## Task 1"
   ]
  },
  {
   "cell_type": "markdown",
   "id": "685b3747-2ce6-434d-8969-a91baddbf85a",
   "metadata": {},
   "source": [
    "Напиши код, который будет решать квадратное уравнение вида\n",
    "$ax^2 + bx + c = 0$. \\\n",
    "Для этого понадобится найти дискриминант. Его формула - $ D = b^2 − 4ac $"
   ]
  },
  {
   "cell_type": "markdown",
   "id": "20bf557b-21f9-46fa-b8db-76b7a96526f4",
   "metadata": {},
   "source": [
    "Для начала напиши формулу нахождения корней квадратного уравнения на языке LaTeX\n",
    "\n",
    "$ x = \\frac{-b\\,{\\pm}\\sqrt{b^2 -4ac}}{2a} $ "
   ]
  },
  {
   "cell_type": "markdown",
   "id": "c78b058d-777d-4369-b86d-0c0fc013eba9",
   "metadata": {},
   "source": [
    "Теперь, когда ты вспомнил как находить корни, приступай к написанию функции:\n",
    "- Функция принимает на вход коэффициент a, b, c.\n",
    "- Функция должна возвращать кортеж корней уравнения. \n",
    "- Если корней у уравнения нет, то функция должна вернуть None"
   ]
  },
  {
   "cell_type": "code",
   "execution_count": 31,
   "id": "03b8b371-870b-42cc-8f53-1e8596406894",
   "metadata": {},
   "outputs": [
    {
     "name": "stdin",
     "output_type": "stream",
     "text": [
      "Enter a 1\n",
      "Enter b -13\n",
      "Enter c 12\n"
     ]
    },
    {
     "name": "stdout",
     "output_type": "stream",
     "text": [
      "(12.0, 1.0)\n"
     ]
    }
   ],
   "source": [
    "import math\n",
    "\n",
    "def equation(a,b,discrim, symb):\n",
    "    res = None\n",
    "    if(symb == '+'):\n",
    "        res = (-b + math.sqrt(discrim))/ 2 * a\n",
    "    else:\n",
    "        res = (-b - math.sqrt(discrim))/ 2 * a\n",
    "    return res\n",
    "def quadratic_equation(a, b, c):\n",
    "    discrim = (b*b) - 4 * a * c\n",
    "    if(discrim < 0):\n",
    "        return None\n",
    "    elif(discrim > 0):\n",
    "        tuplee = (equation(a, b, discrim, '+'), equation(a, b, discrim, '-'))\n",
    "    else:\n",
    "        tuplee = (-b/(2 * a), )\n",
    "        \n",
    "    return tuplee\n",
    "\n",
    "\n",
    "a = int(input('Enter a'))\n",
    "b = int(input('Enter b'))\n",
    "c = int(input('Enter c'))\n",
    "print(quadratic_equation(a,b,c))"
   ]
  },
  {
   "cell_type": "markdown",
   "id": "a8541146-f127-4482-b067-279d50975dac",
   "metadata": {},
   "source": [
    "## Task 2"
   ]
  },
  {
   "cell_type": "markdown",
   "id": "816c48be-0963-4bd6-bd86-c8172eb8968e",
   "metadata": {},
   "source": [
    "Функция, которая на вход принимает cписок случайных чисел, а возвращает уже отсортированный методом Пузырька по возрастанию."
   ]
  },
  {
   "cell_type": "code",
   "execution_count": 44,
   "id": "3fbaf6b3-876f-4ecf-9be6-d26181ee3a48",
   "metadata": {},
   "outputs": [
    {
     "name": "stdin",
     "output_type": "stream",
     "text": [
      "Enter the length of the list 6\n"
     ]
    },
    {
     "name": "stdout",
     "output_type": "stream",
     "text": [
      "[10, 26, 32, 66, 72, 84]\n"
     ]
    }
   ],
   "source": [
    "from random import randint\n",
    "def bubble_sort(lst):\n",
    "    for i in range(len(lst) - 1):\n",
    "        for j in range(len(lst) - i - 1):\n",
    "            if lst[j] > lst[j+1]:\n",
    "                buff = lst[j]\n",
    "                lst[j] = lst[j+1]\n",
    "                lst[j+1] = buff\n",
    "    return lst\n",
    "        \n",
    "length = int(input('Enter the length of the list'))\n",
    "list1 = []\n",
    "for i in range(length):\n",
    "             list1.append(randint(1, 99))\n",
    "print(bubble_sort(list1))"
   ]
  },
  {
   "cell_type": "markdown",
   "id": "0026496c-03a8-4fcc-907b-dfb8f3fc0efb",
   "metadata": {},
   "source": [
    "## Task 3"
   ]
  },
  {
   "cell_type": "markdown",
   "id": "688251be-39a3-49ed-9993-a5f9b39f430d",
   "metadata": {},
   "source": [
    "Самое часто встречающееся слово в романе \"Война и Мир\" без учета:\n",
    "   * Пунктуации\n",
    "   * Слов **короче четырех** символов \n",
    "   * 'Стоп-слов', которые приведены в файле в stop_words_russian.txt"
   ]
  },
  {
   "cell_type": "code",
   "execution_count": 80,
   "id": "94501d71-ee88-4f78-808d-20e79a5f3707",
   "metadata": {},
   "outputs": [
    {
     "name": "stdout",
     "output_type": "stream",
     "text": [
      "('пьер', 1394)\n"
     ]
    }
   ],
   "source": [
    "import string\n",
    "filename = \"../datasets/war_and_peace.txt\"\n",
    "file = open(filename, 'r')\n",
    "text1 = file.read()\n",
    "text1 = text1.replace(\"\\n\", \" \")\n",
    "text1 = text1.lower() \n",
    "spec_chars = '“”\"\\',0’«»\\t‘…-(!:].?[)'\n",
    "text1 = \"\".join([ch for ch in text1 if ch not in spec_chars and ch.isdigit() == False]) #deleting punctuation chars and digits \n",
    "file2 = open(\"../datasets/stop_words_russian.txt\", 'r')\n",
    "stopwords = file2.read()\n",
    "text2 = text1.split()\n",
    "dictionary = dict()\n",
    "for word in text2:\n",
    "    if len(word) >= 4 and word not in stopwords:\n",
    "            dictionary[word] = dictionary.get(word, 0) + 1\n",
    "sorted_words = list(sorted(dictionary.items(), key=lambda item: item[1], reverse = True))\n",
    "print(sorted_words[0])\n"
   ]
  },
  {
   "cell_type": "markdown",
   "id": "d4b6f922-7a22-4b38-8529-c92994edd38c",
   "metadata": {},
   "source": [
    "## Task 4"
   ]
  },
  {
   "cell_type": "markdown",
   "id": "c2cef602-ab87-47f8-ab2c-e323442b62f7",
   "metadata": {},
   "source": [
    "Функция для расчета числа Фибоначчи с использованием рекурсивной функции."
   ]
  },
  {
   "cell_type": "code",
   "execution_count": 90,
   "id": "ec1c1860-774d-4583-a44b-bdc30492eead",
   "metadata": {},
   "outputs": [
    {
     "name": "stdout",
     "output_type": "stream",
     "text": [
      "34\n"
     ]
    }
   ],
   "source": [
    "def fib(n):\n",
    "    if n in (1, 2):\n",
    "        return 1\n",
    "    elif n == 0:\n",
    "        return 0\n",
    "    return fib(n - 1) + fib(n - 2)\n",
    " \n",
    "print(fib(9))"
   ]
  },
  {
   "cell_type": "markdown",
   "id": "1acc3069-4b1a-4a5c-98e4-055731203d2d",
   "metadata": {},
   "source": [
    "## Task 5"
   ]
  },
  {
   "cell_type": "markdown",
   "id": "944e804e-fb40-4ea2-b931-38b595d3c262",
   "metadata": {},
   "source": [
    "Функция перевода валюты в рубли."
   ]
  },
  {
   "cell_type": "code",
   "execution_count": 86,
   "id": "570cfb71-5cf0-41fc-aae7-cf2b2812eaca",
   "metadata": {},
   "outputs": [
    {
     "data": {
      "text/plain": [
       "140.7694"
      ]
     },
     "execution_count": 86,
     "metadata": {},
     "output_type": "execute_result"
    }
   ],
   "source": [
    "import requests\n",
    "import json\n",
    "def convert2RU(currency, value):\n",
    "    rub = 0\n",
    "    kurs = 0\n",
    "    r = requests.get('https://www.banki.ru/products/currency/cb/')\n",
    "    r = r.text.split()\n",
    "    index = 0\n",
    "    if(currency == 'USD'):\n",
    "           for word in r:\n",
    "            index+=1\n",
    "            if(word == 'USD'):\n",
    "                   kurs = float(r[index+9][4:-5])\n",
    "    elif(currency == 'EUR'):\n",
    "           for word in r:\n",
    "            index+=1\n",
    "            if(word == 'EUR'):\n",
    "                   kurs = float(r[index+8][4:-5])\n",
    "    elif(currency == 'GBP'):\n",
    "        for word in r:\n",
    "            index+=1\n",
    "            if(word == 'GBP'):\n",
    "                   kurs = float(r[index+11][4:-5])\n",
    "    rub = value * kurs\n",
    "    return rub\n",
    "convert2RU('USD', 2)\n"
   ]
  },
  {
   "cell_type": "markdown",
   "id": "fe1396fa-7109-48ad-a255-4d4f622c18a4",
   "metadata": {},
   "source": [
    "## *Task 6. Дополнительное задание"
   ]
  },
  {
   "cell_type": "markdown",
   "id": "71315701-39bd-4759-afd9-7bf20486b4f7",
   "metadata": {},
   "source": [
    "Написание проверки на пaлиндром."
   ]
  },
  {
   "cell_type": "markdown",
   "id": "715fd45b-eb76-4eb5-bbd8-a257035fe892",
   "metadata": {},
   "source": [
    "1. На вход функции _isPalindrome_ подается **число** (int). \\\n",
    "Функция возвращает **True**, если число является палидромом и **False** в противном случае. "
   ]
  },
  {
   "cell_type": "code",
   "execution_count": 90,
   "id": "9f48d9c7-c413-47fb-b692-ce5ad8ed9ec1",
   "metadata": {},
   "outputs": [
    {
     "name": "stdout",
     "output_type": "stream",
     "text": [
      "True\n"
     ]
    }
   ],
   "source": [
    "def isPalindrome(x: int) -> bool:\n",
    "    y = str(x)\n",
    "    a = y[::-1]\n",
    "    if (y == a):\n",
    "        return True\n",
    "    else:\n",
    "        return False\n",
    "print(isPalindrome(101))"
   ]
  },
  {
   "cell_type": "markdown",
   "id": "e86f6f7c-c3b0-4b92-bb3d-651dcc7d4706",
   "metadata": {},
   "source": [
    "2. Реализация функции без использования перевода числа в строку."
   ]
  },
  {
   "cell_type": "code",
   "execution_count": 88,
   "id": "35cf92fa-04c6-489b-9523-99d78dce4ba1",
   "metadata": {},
   "outputs": [
    {
     "name": "stdout",
     "output_type": "stream",
     "text": [
      "False\n"
     ]
    }
   ],
   "source": [
    "def isPalindrome_v2(x: int) -> bool:\n",
    "    temp = x\n",
    "    reverse = 0\n",
    "    while(x > 0):\n",
    "            number = x % 10\n",
    "            reverse = reverse * 10 + number\n",
    "            x = x // 10\n",
    "    if(temp == reverse):\n",
    "        return True\n",
    "    else:\n",
    "        return False\n",
    "print(isPalindrome_v2(102))"
   ]
  },
  {
   "cell_type": "code",
   "execution_count": null,
   "id": "00c1658b-268d-4c61-888d-fade80b46515",
   "metadata": {},
   "outputs": [],
   "source": []
  },
  {
   "cell_type": "code",
   "execution_count": null,
   "id": "a1ce2c92-3208-4065-aced-3f7fdfbba6d0",
   "metadata": {},
   "outputs": [],
   "source": []
  }
 ],
 "metadata": {
  "kernelspec": {
   "display_name": "Python 3 (ipykernel)",
   "language": "python",
   "name": "python3"
  },
  "language_info": {
   "codemirror_mode": {
    "name": "ipython",
    "version": 3
   },
   "file_extension": ".py",
   "mimetype": "text/x-python",
   "name": "python",
   "nbconvert_exporter": "python",
   "pygments_lexer": "ipython3",
   "version": "3.7.9"
  }
 },
 "nbformat": 4,
 "nbformat_minor": 5
}
