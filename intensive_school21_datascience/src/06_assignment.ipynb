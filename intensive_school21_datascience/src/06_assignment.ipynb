{
  "cells": [
    {
      "cell_type": "markdown",
      "id": "f59af801-5930-4a03-984c-f3a63d29a5ba",
      "metadata": {
        "id": "f59af801-5930-4a03-984c-f3a63d29a5ba"
      },
      "source": [
        "# Задание "
      ]
    },
    {
      "cell_type": "code",
      "execution_count": 28,
      "id": "de25621d-4eda-459b-a1da-2c21813eea1c",
      "metadata": {
        "id": "de25621d-4eda-459b-a1da-2c21813eea1c"
      },
      "outputs": [],
      "source": [
        "import matplotlib.pyplot as plt\n",
        "import numpy as np\n"
      ]
    },
    {
      "cell_type": "markdown",
      "id": "35d995e1-34e1-450c-a88d-96104b2df726",
      "metadata": {
        "id": "35d995e1-34e1-450c-a88d-96104b2df726"
      },
      "source": [
        "## Task 1\n",
        "1. Установи библиотеку sympy.\n",
        "2. Используя ее функции, напиши свою функцию, которая на вход примет математическую функцию $ y=f(x)$ вида $x^2 - x + 21$, и вернёт производную: $2𝑥−1$."
      ]
    },
    {
      "cell_type": "code",
      "source": [
        "!pip install sympy\n",
        "from sympy import Symbol, diff\n",
        "\n",
        "def derivative(f):\n",
        "    x = Symbol('x')\n",
        "    df = diff(f, x)\n",
        "    return df\n",
        "\n",
        "f = \"x**2 - x + 21\"\n",
        "df = derivative(f)\n",
        "print(df) "
      ],
      "metadata": {
        "colab": {
          "base_uri": "https://localhost:8080/"
        },
        "id": "zXGv7Vwdb0cM",
        "outputId": "ddfafb48-394a-42e3-9e02-f02a78ec9ffd"
      },
      "id": "zXGv7Vwdb0cM",
      "execution_count": 8,
      "outputs": [
        {
          "output_type": "stream",
          "name": "stdout",
          "text": [
            "Looking in indexes: https://pypi.org/simple, https://us-python.pkg.dev/colab-wheels/public/simple/\n",
            "Requirement already satisfied: sympy in /usr/local/lib/python3.9/dist-packages (1.7.1)\n",
            "Requirement already satisfied: mpmath>=0.19 in /usr/local/lib/python3.9/dist-packages (from sympy) (1.3.0)\n",
            "2*x - 1\n"
          ]
        }
      ]
    },
    {
      "cell_type": "markdown",
      "id": "f0c49d13-79db-469a-be74-bd41777ef05a",
      "metadata": {
        "id": "f0c49d13-79db-469a-be74-bd41777ef05a"
      },
      "source": [
        "## Task 2\n",
        "В этот раз напиши свою функцию, которая на вход примет математическую функцию $p = f(x, y)$, зависящую от двух переменных вида $ (x-y)^2 $, а также ту переменную, по которой нужно посчитать частную производную. Функция должна вернуть частную производную этой переменной: $2𝑥−2𝑦$."
      ]
    },
    {
      "cell_type": "code",
      "source": [
        "from sympy import diff\n",
        "from sympy import *\n",
        "\n",
        "def partial_derivative(p, var):\n",
        "    x, y = symbols('x y')\n",
        "    expr = sympify(p)\n",
        "    if var == 'x':\n",
        "        return diff(expr, x)\n",
        "    elif var == 'y':\n",
        "        return diff(expr, y)\n",
        "    else:\n",
        "        return \"Invalid variable\"\n",
        "p = '(x - y)**2'\n",
        "var = 'x'\n",
        "res = partial_derivative(p, var)\n",
        "print(res)"
      ],
      "metadata": {
        "colab": {
          "base_uri": "https://localhost:8080/"
        },
        "id": "wezHHjw2dT7v",
        "outputId": "0c8000d9-8e5e-4359-a42c-e429db58fe61"
      },
      "id": "wezHHjw2dT7v",
      "execution_count": 30,
      "outputs": [
        {
          "output_type": "stream",
          "name": "stdout",
          "text": [
            "2*x - 2*y\n"
          ]
        }
      ]
    },
    {
      "cell_type": "markdown",
      "id": "30c90ce8-7a46-4803-809a-fd037adeea44",
      "metadata": {
        "id": "30c90ce8-7a46-4803-809a-fd037adeea44"
      },
      "source": [
        "## Task 3"
      ]
    },
    {
      "cell_type": "markdown",
      "id": "aea0c68c-85e2-4ec0-b748-7f9b3096e6d8",
      "metadata": {
        "id": "aea0c68c-85e2-4ec0-b748-7f9b3096e6d8"
      },
      "source": [
        "1. Тебе надо написать математическую функцию. Представь, что у тебя есть y_true и есть y_pred (предсказанное). Тебе надо посчитать квадрат отклонения одного от другого. Причём предсказанное значение получается при помощи функции линейной регрессии: y = wx +b. Дополнительно поделим всё это на n.\n",
        "2. Нужно написать функцию Python, которая примет на вход эту функцию и ту переменную, по которой нам надо посчитать частные производные. Нас будут интересовать w и b. Именно их наилучшие значения мы и будем в дальнейшем искать. Функция должна вернуть производные сразу по обеим этим переменным."
      ]
    },
    {
      "cell_type": "code",
      "source": [
        "\n",
        "def count_1():\n",
        "  y_true, y_pred, w, x, b, n = symbols(\"y_true, y_pred, w, x, b, n\")\n",
        "  y_pred = w * x + b\n",
        "  return (y_true - y_pred) ** 2 / n \n",
        "  \n",
        "def count_2(func, var1, var2):\n",
        "  return diff(func, var1), diff(func, var2)\n",
        "\n",
        "\n",
        "w, b = symbols(\"w, b\")\n",
        "count_2(count_1(), w, b)\n",
        "\n",
        "\n"
      ],
      "metadata": {
        "colab": {
          "base_uri": "https://localhost:8080/"
        },
        "id": "JtCh-p3RX5A5",
        "outputId": "bb41778c-2929-4c50-df80-d87a0ad12436"
      },
      "id": "JtCh-p3RX5A5",
      "execution_count": 35,
      "outputs": [
        {
          "output_type": "execute_result",
          "data": {
            "text/plain": [
              "(-2*x*(-b - w*x + y_true)/n, (2*b + 2*w*x - 2*y_true)/n)"
            ]
          },
          "metadata": {},
          "execution_count": 35
        }
      ]
    },
    {
      "cell_type": "markdown",
      "id": "75ea75df-da98-4687-b921-47e1eb0b63cb",
      "metadata": {
        "id": "75ea75df-da98-4687-b921-47e1eb0b63cb"
      },
      "source": [
        "## Task 4\n",
        "1. В этот раз вам надо написать класс `Gradient()`, который будет состоять из нескольких методов. Объект при инициализации получает два вектора: `X`, `Y`. Далее методы обращаются к ним уже внутри класса.\n",
        "    - `predict`: на вход она получает `w`, `b`, на выход она выдаёт прогнозные значения `Y_pred`;\n",
        "    - `mse`: на вход она получает `Y_pred`, на выход выдает посчитанное MSE;\n",
        "    - `update`: на вход она получает `Y_pred`, `w`, `b`; на выход выдаёт новые значения `w`, `b`, которые обновились благодаря посчитанным градиентам.\n",
        "2. Проверить работу методов, подав на вход класса два вектора `X`, `Y` и начальные параметры `w`, `b` в требуемые методы."
      ]
    },
    {
      "cell_type": "code",
      "execution_count": 42,
      "id": "b4bb1337-6f9c-49dc-bbc0-5952b12121ae",
      "metadata": {
        "id": "b4bb1337-6f9c-49dc-bbc0-5952b12121ae"
      },
      "outputs": [],
      "source": [
        "X = np.array(\n",
        "    [32.50234527, 53.42680403, 61.53035803, 47.47563963, 59.81320787, 55.14218841, \n",
        "     52.21179669, 39.29956669, 48.10504169, 52.55001444, 45.41973014, 54.35163488, \n",
        "     44.1640495 , 58.16847072, 56.72720806, 48.95588857, 44.68719623, 60.29732685, \n",
        "     45.61864377, 38.81681754]\n",
        ")\n",
        "Y = np.array(\n",
        "    [31.70700585, 68.77759598, 62.5623823 , 71.54663223, 87.23092513, 78.21151827, \n",
        "     79.64197305, 59.17148932, 75.3312423 , 71.30087989, 55.16567715, 82.47884676, \n",
        "     62.00892325, 75.39287043, 81.43619216, 60.72360244, 82.89250373, 97.37989686, \n",
        "     48.84715332, 56.87721319]\n",
        ")\n",
        "\n"
      ]
    },
    {
      "cell_type": "code",
      "execution_count": 37,
      "id": "2b5a7a87-eb43-456f-adf3-add9b502e3e1",
      "metadata": {
        "id": "2b5a7a87-eb43-456f-adf3-add9b502e3e1",
        "outputId": "ba9f0d7d-4dff-4878-95f1-cacc6fc82ddb",
        "colab": {
          "base_uri": "https://localhost:8080/",
          "height": 267
        }
      },
      "outputs": [
        {
          "output_type": "display_data",
          "data": {
            "text/plain": [
              "<Figure size 432x288 with 1 Axes>"
            ],
            "image/png": "[encoded data removed]"
          },
          "metadata": {
            "needs_background": "light"
          }
        }
      ],
      "source": [
        "plt.scatter(X, Y);"
      ]
    },
    {
      "cell_type": "code",
      "execution_count": 43,
      "id": "99ad34a1-5c67-4430-84ad-dc77ac8b657f",
      "metadata": {
        "id": "99ad34a1-5c67-4430-84ad-dc77ac8b657f"
      },
      "outputs": [],
      "source": [
        "class Gradient:\n",
        "    def __init__(self, X, Y):\n",
        "        self.X = X\n",
        "        self.Y = Y\n",
        "\n",
        "    def predict(self, w, b):\n",
        "        Y_pred = np.dot(self.X, w) + b\n",
        "        return Y_pred\n",
        "\n",
        "    def mse(self, Y_pred):\n",
        "        mse = np.mean((self.Y - Y_pred) ** 2)\n",
        "        return mse\n",
        "\n",
        "    def update(self, Y_pred, w, b):\n",
        "        lr = 0.00001\n",
        "        dw = np.mean(np.dot((Y_pred - self.Y), self.X))\n",
        "        db = np.mean(Y_pred - self.Y)\n",
        "        w = w - lr * dw\n",
        "        b = b - lr * db\n",
        "        return w, b"
      ]
    },
    {
      "cell_type": "code",
      "source": [
        "gradient = Gradient(X, Y)\n",
        "\n",
        "# Проверим метод predict\n",
        "Y_pred = gradient.predict(0.5, 1)\n",
        "print(\"Y_pred:\", Y_pred)\n",
        "\n",
        "# Проверим метод mse\n",
        "mse = gradient.mse(Y_pred)\n",
        "print(\"MSE:\", mse)\n",
        "\n",
        "# Проверим метод update\n",
        "w_new, b_new = gradient.update(Y_pred, 0.5, 1)\n",
        "print(\"New w:\", w_new)\n",
        "print(\"New b:\", b_new)"
      ],
      "metadata": {
        "id": "OiRBrdLz0lHN",
        "colab": {
          "base_uri": "https://localhost:8080/"
        },
        "outputId": "7a5a2fa6-780a-40ae-e4d5-a5aebf76d201"
      },
      "id": "OiRBrdLz0lHN",
      "execution_count": 64,
      "outputs": [
        {
          "output_type": "stream",
          "name": "stdout",
          "text": [
            "Y_pred: [17.25117263 27.71340201 31.76517902 24.73781982 30.90660393 28.57109421\n",
            " 27.10589834 20.64978334 25.05252085 27.27500722 23.70986507 28.17581744\n",
            " 23.08202475 30.08423536 29.36360403 25.47794428 23.34359811 31.14866342\n",
            " 23.80932188 20.40840877]\n",
            "MSE: 2036.5674930726975\n",
            "New w: 0.9450307402717477\n",
            "New b: 1.0004345262795524\n"
          ]
        }
      ]
    },
    {
      "cell_type": "markdown",
      "id": "f2f68272-33ed-4c97-a97e-4216b1ab2ef4",
      "metadata": {
        "id": "f2f68272-33ed-4c97-a97e-4216b1ab2ef4"
      },
      "source": [
        "## Task 5\n",
        "Улучши код таким образом, чтобы появился метод `optimize`. Он должен итеративным образом пройти какое-то количество раз обновление значений `w`, `b`, придя к оптимальному значению. Критерии останова:\n",
        " - если было превышено количество заранее заданных итераций `num_iterations`;\n",
        " - если новая итерация выдала разницу между текущей ошибкой и ошибкой прошлой итерации значение, меньшее, чем `stopping_threshold`;\n",
        " - метод должен вернуть финальные значения `w`, `b`, и `mse`.\n"
      ]
    },
    {
      "cell_type": "code",
      "execution_count": 62,
      "id": "07200188-e4ff-4c8b-a2a7-42de3772f11a",
      "metadata": {
        "id": "07200188-e4ff-4c8b-a2a7-42de3772f11a"
      },
      "outputs": [],
      "source": [
        "class GradientDescent(Gradient):\n",
        "    \n",
        "    def __init__(self, X, Y):\n",
        "        super().__init__(X, Y)\n",
        "        \n",
        "    def optimize(self, num_iterations=100, stopping_threshold=0.0001):\n",
        "        w = 0\n",
        "        b = 0\n",
        "        mse_old = 0\n",
        "        for i in range(num_iterations):\n",
        "            Y_pred = self.predict(w, b)\n",
        "            mse = self.mse(Y_pred)\n",
        "            if i > 0 and mse_old - mse < stopping_threshold:\n",
        "                break\n",
        "            mse_old = mse\n",
        "            w, b = self.update(Y_pred, w, b)\n",
        "        return w, b, mse"
      ]
    },
    {
      "cell_type": "code",
      "execution_count": 63,
      "id": "b0a21df3-6441-4a7c-835c-3529aae07ee4",
      "metadata": {
        "id": "b0a21df3-6441-4a7c-835c-3529aae07ee4",
        "colab": {
          "base_uri": "https://localhost:8080/"
        },
        "outputId": "af428169-77ad-4cdd-ac97-8c65a631ba7d"
      },
      "outputs": [
        {
          "output_type": "stream",
          "name": "stdout",
          "text": [
            "(1.3904038513516916, 0.0013525504048759868, 98.63584375917914)\n"
          ]
        }
      ],
      "source": [
        "train = GradientDescent(X,Y)\n",
        "print(train.optimize(10000, 0.0000001))"
      ]
    },
    {
      "cell_type": "code",
      "source": [],
      "metadata": {
        "id": "WnJB4lHO9Vl3"
      },
      "id": "WnJB4lHO9Vl3",
      "execution_count": null,
      "outputs": []
    }
  ],
  "metadata": {
    "kernelspec": {
      "display_name": "Python 3 (ipykernel)",
      "language": "python",
      "name": "python3"
    },
    "language_info": {
      "codemirror_mode": {
        "name": "ipython",
        "version": 3
      },
      "file_extension": ".py",
      "mimetype": "text/x-python",
      "name": "python",
      "nbconvert_exporter": "python",
      "pygments_lexer": "ipython3",
      "version": "3.9.6"
    },
    "colab": {
      "provenance": []
    }
  },
  "nbformat": 4,
  "nbformat_minor": 5
}