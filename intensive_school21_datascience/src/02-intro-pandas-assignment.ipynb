{
 "cells": [
  {
   "cell_type": "markdown",
   "metadata": {},
   "source": [
    "# Задание"
   ]
  },
  {
   "cell_type": "code",
   "execution_count": 89,
   "metadata": {},
   "outputs": [],
   "source": [
    "import pandas as pd"
   ]
  },
  {
   "cell_type": "code",
   "execution_count": 90,
   "metadata": {},
   "outputs": [],
   "source": [
    "pd.set_option('display.max_rows', 10)"
   ]
  },
  {
   "cell_type": "markdown",
   "metadata": {},
   "source": [
    "## Задание 1"
   ]
  },
  {
   "cell_type": "markdown",
   "metadata": {},
   "source": [
    "Узнай самый часто встречаемый возраст респондентов"
   ]
  },
  {
   "cell_type": "code",
   "execution_count": 91,
   "metadata": {},
   "outputs": [
    {
     "name": "stdout",
     "output_type": "stream",
     "text": [
      "Самый часто встречаемый возраст: 18-21 - 4559\n"
     ]
    }
   ],
   "source": [
    "data = pd.read_csv('../datasets/kaggle_survey_2022_responses.csv')\n",
    "age_index = data['Q2'].value_counts().index[0]\n",
    "age_value = data['Q2'].value_counts()[0]\n",
    "print(\"Самый часто встречаемый возраст:\", age_index,'-',age_value)"
   ]
  },
  {
   "cell_type": "markdown",
   "metadata": {},
   "source": [
    "## Задание 2"
   ]
  },
  {
   "cell_type": "markdown",
   "metadata": {},
   "source": [
    "Посчитай долю женщин среди русских участником опроса, которые уже не студенты. Результат округли до 2х цифры после запятой"
   ]
  },
  {
   "cell_type": "code",
   "execution_count": 92,
   "metadata": {},
   "outputs": [
    {
     "name": "stdout",
     "output_type": "stream",
     "text": [
      "23.78 %\n"
     ]
    }
   ],
   "source": [
    "a = len(data[\n",
    "    (data['Q4'].str.contains('Russia')) & \n",
    "    (data['Q3'].str.contains('Woman')) &\n",
    "    (data['Q5'].str.contains('No'))\n",
    "])\n",
    "b = len(data[\n",
    "   (data['Q4'].str.contains('Russia')) & \n",
    "   (data['Q5'].str.contains('No'))\n",
    "])\n",
    "print(round(a / b * 100, 2),\"%\")\n"
   ]
  },
  {
   "cell_type": "markdown",
   "metadata": {},
   "source": [
    "## Задание 3"
   ]
  },
  {
   "cell_type": "markdown",
   "metadata": {},
   "source": [
    "Найди среднее время заполнения опроса в **минутах**. Результат округли до 2х знаков после запятой"
   ]
  },
  {
   "cell_type": "code",
   "execution_count": 93,
   "metadata": {},
   "outputs": [
    {
     "name": "stdout",
     "output_type": "stream",
     "text": [
      "168.17\n"
     ]
    }
   ],
   "source": [
    "import numpy\n",
    "a = data['Duration (in seconds)'][1:].astype(int)\n",
    "seconds = numpy.mean(a)\n",
    "minutes = seconds / 60\n",
    "print(round(minutes, 2))"
   ]
  },
  {
   "cell_type": "markdown",
   "metadata": {},
   "source": [
    "## Задание 4"
   ]
  },
  {
   "cell_type": "markdown",
   "metadata": {},
   "source": [
    "Выведи топ-3 образовательных курса, которые указали респонденты. P.S Это вопрос Q6"
   ]
  },
  {
   "cell_type": "code",
   "execution_count": 94,
   "metadata": {},
   "outputs": [
    {
     "data": {
      "text/plain": [
       "вопрос  value                                                \n",
       "Q6_1    Coursera                                                 9699\n",
       "Q6_10   University Courses (resulting in a university degree)    6780\n",
       "Q6_3    Kaggle Learn Courses                                     6628\n",
       "dtype: int64"
      ]
     },
     "execution_count": 94,
     "metadata": {},
     "output_type": "execute_result"
    }
   ],
   "source": [
    "q6_columns = [col for col in data.columns if col.startswith('Q6')]\n",
    "q6_columns\n",
    "platforms = data[q6_columns].melt(var_name='вопрос', value_vars=q6_columns)\n",
    "platforms.value_counts().iloc[:3]"
   ]
  },
  {
   "cell_type": "markdown",
   "metadata": {},
   "source": [
    "## Задание 5"
   ]
  },
  {
   "cell_type": "markdown",
   "metadata": {},
   "source": [
    "Узнай топ-5 языков программирования, которые регулярно используют Data Scientists в своей работе"
   ]
  },
  {
   "cell_type": "code",
   "execution_count": 95,
   "metadata": {},
   "outputs": [
    {
     "data": {
      "text/plain": [
       "вопрос  value \n",
       "Q12_1   Python    18653\n",
       "Q12_3   SQL        9620\n",
       "Q12_2   R          4571\n",
       "Q12_6   C++        4549\n",
       "Q12_7   Java       3862\n",
       "dtype: int64"
      ]
     },
     "execution_count": 95,
     "metadata": {},
     "output_type": "execute_result"
    }
   ],
   "source": [
    "q12_columns = [col for col in data.columns if col.startswith('Q12')]\n",
    "q12_columns\n",
    "languages = data[q12_columns].melt(var_name='вопрос', value_vars=q12_columns)\n",
    "languages.value_counts().iloc[:5]"
   ]
  },
  {
   "cell_type": "markdown",
   "metadata": {},
   "source": [
    "## Задание 6"
   ]
  },
  {
   "cell_type": "markdown",
   "metadata": {},
   "source": [
    "Узнай средний доход 'Data Scientist' и 'Machine Learning/ MLops Engineer' \\\n",
    "Т.к в колонке Q29 у на промежуток, то возьмите среднее значение из промежкутка. Например '15,000-19,999' - 17500, '125,000-149,999' - 137500. >$1,000,000 - оставляем 1000000"
   ]
  },
  {
   "cell_type": "code",
   "execution_count": 96,
   "metadata": {},
   "outputs": [
    {
     "name": "stdout",
     "output_type": "stream",
     "text": [
      "67456.35\n"
     ]
    }
   ],
   "source": [
    "c = data[data['Q23'].str.contains('Data Scientist') |\n",
    "        data['Q23'].str.contains('Machine Learning/ MLops Engineer')\n",
    "]    \n",
    "c = c['Q29'].dropna()\n",
    "list_of_means = []\n",
    "for i in c[1:]:\n",
    "    first_number = i[i.find('$')+1:i.find('-')]\n",
    "    first_number = first_number.replace(',', '')\n",
    "    first_number = first_number.replace('>$1000000', '1000000')\n",
    "    second_number = i[i.find('-') + 1:]\n",
    "    second_number = second_number.replace(',', '')\n",
    "    second_number = second_number.replace('>$1000000', '1000000')\n",
    "    new_list = []\n",
    "    new_list.append(float(first_number))\n",
    "    new_list.append(float(second_number))\n",
    "    list_of_means.append(numpy.mean(new_list))\n",
    "print(round(numpy.mean(list_of_means), 2))"
   ]
  },
  {
   "cell_type": "markdown",
   "metadata": {},
   "source": [
    "## Задание 7 - Дополнительное задание"
   ]
  },
  {
   "cell_type": "markdown",
   "metadata": {},
   "source": [
    "Найдите какой-нибудь интересный инсайт из этих данных. Пишите свои интересные инсайты в чат проекта с хэштегом.\n",
    "#инсайт\n",
    "\n",
    "Автор самого интересного инсайта получит p2p баллы. Поверь, они тебе понадобятся"
   ]
  },
  {
   "cell_type": "code",
   "execution_count": null,
   "metadata": {},
   "outputs": [],
   "source": []
  },
  {
   "cell_type": "code",
   "execution_count": null,
   "metadata": {},
   "outputs": [],
   "source": []
  }
 ],
 "metadata": {
  "kernelspec": {
   "display_name": "Python 3 (ipykernel)",
   "language": "python",
   "name": "python3"
  },
  "language_info": {
   "codemirror_mode": {
    "name": "ipython",
    "version": 3
   },
   "file_extension": ".py",
   "mimetype": "text/x-python",
   "name": "python",
   "nbconvert_exporter": "python",
   "pygments_lexer": "ipython3",
   "version": "3.7.9"
  }
 },
 "nbformat": 4,
 "nbformat_minor": 4
}
