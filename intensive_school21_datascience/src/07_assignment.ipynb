{
  "cells": [
    {
      "cell_type": "markdown",
      "id": "aea9b603-3a53-4213-adf8-1e97f56c5e03",
      "metadata": {
        "id": "aea9b603-3a53-4213-adf8-1e97f56c5e03"
      },
      "source": [
        "# Задание"
      ]
    },
    {
      "cell_type": "markdown",
      "source": [],
      "metadata": {
        "id": "1rSrKN7oub0s"
      },
      "id": "1rSrKN7oub0s"
    },
    {
      "cell_type": "code",
      "source": [
        "from google.colab import drive\n",
        "drive.mount('/content/drive')"
      ],
      "metadata": {
        "colab": {
          "base_uri": "https://localhost:8080/"
        },
        "id": "NS7eO6xkKUJO",
        "outputId": "4fd501e4-1ff7-482c-db79-2ddc01d8ce19"
      },
      "id": "NS7eO6xkKUJO",
      "execution_count": 72,
      "outputs": [
        {
          "output_type": "stream",
          "name": "stdout",
          "text": [
            "Drive already mounted at /content/drive; to attempt to forcibly remount, call drive.mount(\"/content/drive\", force_remount=True).\n"
          ]
        }
      ]
    },
    {
      "cell_type": "code",
      "execution_count": 73,
      "id": "d3b87b60-780c-49cb-a8aa-813761aa6acc",
      "metadata": {
        "id": "d3b87b60-780c-49cb-a8aa-813761aa6acc"
      },
      "outputs": [],
      "source": [
        "import numpy as np\n",
        "import pandas as pd"
      ]
    },
    {
      "cell_type": "code",
      "source": [
        "data = pd.read_csv('/content/drive/MyDrive/credit_scoring.csv')\n",
        "data.head(20)"
      ],
      "metadata": {
        "id": "LMtf_PlfKu2R",
        "colab": {
          "base_uri": "https://localhost:8080/",
          "height": 237
        },
        "outputId": "6fc4ebc0-a0ec-49d5-d5de-53c1cdc82bcf"
      },
      "id": "LMtf_PlfKu2R",
      "execution_count": 74,
      "outputs": [
        {
          "output_type": "execute_result",
          "data": {
            "text/plain": [
              "       Имя  Возраст  Месячный доход\n",
              "0  Николай       39            5600\n",
              "1    Ольга       43           12000\n",
              "2     Митя       17           15000\n",
              "3     Вика       19            9600\n",
              "4     Петр       21           20000\n",
              "5   Кирилл       13             500"
            ],
            "text/html": [
              "\n",
              "  <div id=\"df-384c5e32-acc9-4da1-b21e-051e232caf28\">\n",
              "    <div class=\"colab-df-container\">\n",
              "      <div>\n",
              "<style scoped>\n",
              "    .dataframe tbody tr th:only-of-type {\n",
              "        vertical-align: middle;\n",
              "    }\n",
              "\n",
              "    .dataframe tbody tr th {\n",
              "        vertical-align: top;\n",
              "    }\n",
              "\n",
              "    .dataframe thead th {\n",
              "        text-align: right;\n",
              "    }\n",
              "</style>\n",
              "<table border=\"1\" class=\"dataframe\">\n",
              "  <thead>\n",
              "    <tr style=\"text-align: right;\">\n",
              "      <th></th>\n",
              "      <th>Имя</th>\n",
              "      <th>Возраст</th>\n",
              "      <th>Месячный доход</th>\n",
              "    </tr>\n",
              "  </thead>\n",
              "  <tbody>\n",
              "    <tr>\n",
              "      <th>0</th>\n",
              "      <td>Николай</td>\n",
              "      <td>39</td>\n",
              "      <td>5600</td>\n",
              "    </tr>\n",
              "    <tr>\n",
              "      <th>1</th>\n",
              "      <td>Ольга</td>\n",
              "      <td>43</td>\n",
              "      <td>12000</td>\n",
              "    </tr>\n",
              "    <tr>\n",
              "      <th>2</th>\n",
              "      <td>Митя</td>\n",
              "      <td>17</td>\n",
              "      <td>15000</td>\n",
              "    </tr>\n",
              "    <tr>\n",
              "      <th>3</th>\n",
              "      <td>Вика</td>\n",
              "      <td>19</td>\n",
              "      <td>9600</td>\n",
              "    </tr>\n",
              "    <tr>\n",
              "      <th>4</th>\n",
              "      <td>Петр</td>\n",
              "      <td>21</td>\n",
              "      <td>20000</td>\n",
              "    </tr>\n",
              "    <tr>\n",
              "      <th>5</th>\n",
              "      <td>Кирилл</td>\n",
              "      <td>13</td>\n",
              "      <td>500</td>\n",
              "    </tr>\n",
              "  </tbody>\n",
              "</table>\n",
              "</div>\n",
              "      <button class=\"colab-df-convert\" onclick=\"convertToInteractive('df-384c5e32-acc9-4da1-b21e-051e232caf28')\"\n",
              "              title=\"Convert this dataframe to an interactive table.\"\n",
              "              style=\"display:none;\">\n",
              "        \n",
              "  <svg xmlns=\"http://www.w3.org/2000/svg\" height=\"24px\"viewBox=\"0 0 24 24\"\n",
              "       width=\"24px\">\n",
              "    <path d=\"M0 0h24v24H0V0z\" fill=\"none\"/>\n",
              "    <path d=\"M18.56 5.44l.94 2.06.94-2.06 2.06-.94-2.06-.94-.94-2.06-.94 2.06-2.06.94zm-11 1L8.5 8.5l.94-2.06 2.06-.94-2.06-.94L8.5 2.5l-.94 2.06-2.06.94zm10 10l.94 2.06.94-2.06 2.06-.94-2.06-.94-.94-2.06-.94 2.06-2.06.94z\"/><path d=\"M17.41 7.96l-1.37-1.37c-.4-.4-.92-.59-1.43-.59-.52 0-1.04.2-1.43.59L10.3 9.45l-7.72 7.72c-.78.78-.78 2.05 0 2.83L4 21.41c.39.39.9.59 1.41.59.51 0 1.02-.2 1.41-.59l7.78-7.78 2.81-2.81c.8-.78.8-2.07 0-2.86zM5.41 20L4 18.59l7.72-7.72 1.47 1.35L5.41 20z\"/>\n",
              "  </svg>\n",
              "      </button>\n",
              "      \n",
              "  <style>\n",
              "    .colab-df-container {\n",
              "      display:flex;\n",
              "      flex-wrap:wrap;\n",
              "      gap: 12px;\n",
              "    }\n",
              "\n",
              "    .colab-df-convert {\n",
              "      background-color: #E8F0FE;\n",
              "      border: none;\n",
              "      border-radius: 50%;\n",
              "      cursor: pointer;\n",
              "      display: none;\n",
              "      fill: #1967D2;\n",
              "      height: 32px;\n",
              "      padding: 0 0 0 0;\n",
              "      width: 32px;\n",
              "    }\n",
              "\n",
              "    .colab-df-convert:hover {\n",
              "      background-color: #E2EBFA;\n",
              "      box-shadow: 0px 1px 2px rgba(60, 64, 67, 0.3), 0px 1px 3px 1px rgba(60, 64, 67, 0.15);\n",
              "      fill: #174EA6;\n",
              "    }\n",
              "\n",
              "    [theme=dark] .colab-df-convert {\n",
              "      background-color: #3B4455;\n",
              "      fill: #D2E3FC;\n",
              "    }\n",
              "\n",
              "    [theme=dark] .colab-df-convert:hover {\n",
              "      background-color: #434B5C;\n",
              "      box-shadow: 0px 1px 3px 1px rgba(0, 0, 0, 0.15);\n",
              "      filter: drop-shadow(0px 1px 2px rgba(0, 0, 0, 0.3));\n",
              "      fill: #FFFFFF;\n",
              "    }\n",
              "  </style>\n",
              "\n",
              "      <script>\n",
              "        const buttonEl =\n",
              "          document.querySelector('#df-384c5e32-acc9-4da1-b21e-051e232caf28 button.colab-df-convert');\n",
              "        buttonEl.style.display =\n",
              "          google.colab.kernel.accessAllowed ? 'block' : 'none';\n",
              "\n",
              "        async function convertToInteractive(key) {\n",
              "          const element = document.querySelector('#df-384c5e32-acc9-4da1-b21e-051e232caf28');\n",
              "          const dataTable =\n",
              "            await google.colab.kernel.invokeFunction('convertToInteractive',\n",
              "                                                     [key], {});\n",
              "          if (!dataTable) return;\n",
              "\n",
              "          const docLinkHtml = 'Like what you see? Visit the ' +\n",
              "            '<a target=\"_blank\" href=https://colab.research.google.com/notebooks/data_table.ipynb>data table notebook</a>'\n",
              "            + ' to learn more about interactive tables.';\n",
              "          element.innerHTML = '';\n",
              "          dataTable['output_type'] = 'display_data';\n",
              "          await google.colab.output.renderOutput(dataTable, element);\n",
              "          const docLink = document.createElement('div');\n",
              "          docLink.innerHTML = docLinkHtml;\n",
              "          element.appendChild(docLink);\n",
              "        }\n",
              "      </script>\n",
              "    </div>\n",
              "  </div>\n",
              "  "
            ]
          },
          "metadata": {},
          "execution_count": 74
        }
      ]
    },
    {
      "cell_type": "markdown",
      "id": "11778690-6cd9-4500-bebb-c9ea47978337",
      "metadata": {
        "id": "11778690-6cd9-4500-bebb-c9ea47978337"
      },
      "source": [
        "## Задание 1"
      ]
    },
    {
      "cell_type": "markdown",
      "id": "44de3647-0599-46d5-8f94-89416cd47305",
      "metadata": {
        "id": "44de3647-0599-46d5-8f94-89416cd47305"
      },
      "source": [
        "<center><img src=\"../misc/images/simple-tree.png\" width=\"440\" height=\"440\"/> <center/>"
      ]
    },
    {
      "cell_type": "markdown",
      "id": "776e8904-4fb3-4f6d-9e96-fdbd8227bd0c",
      "metadata": {
        "id": "776e8904-4fb3-4f6d-9e96-fdbd8227bd0c"
      },
      "source": [
        "Клиенты, которым должны одобрить заявку на кредит: Ольга и Петр"
      ]
    },
    {
      "cell_type": "code",
      "source": [
        "x = data[(data['Возраст']>=18) & (data['Месячный доход']>10000)]\n",
        "print(\"Клиенты, которым должны одобрить заявку на кредит:\", x['Имя'].values)"
      ],
      "metadata": {
        "colab": {
          "base_uri": "https://localhost:8080/"
        },
        "id": "qhBz-bt3MN-O",
        "outputId": "62e579ce-7c17-4094-f304-90e7144c872b"
      },
      "id": "qhBz-bt3MN-O",
      "execution_count": 75,
      "outputs": [
        {
          "output_type": "stream",
          "name": "stdout",
          "text": [
            "Клиенты, которым должны одобрить заявку на кредит: ['Ольга' 'Петр']\n"
          ]
        }
      ]
    },
    {
      "cell_type": "markdown",
      "id": "fe83dad8-be1a-4d38-b65e-ca2ad5523daa",
      "metadata": {
        "id": "fe83dad8-be1a-4d38-b65e-ca2ad5523daa"
      },
      "source": [
        "## Задание 2"
      ]
    },
    {
      "cell_type": "code",
      "execution_count": 76,
      "id": "b3641ee7-bc00-44e4-8185-527a618d2343",
      "metadata": {
        "colab": {
          "base_uri": "https://localhost:8080/"
        },
        "id": "b3641ee7-bc00-44e4-8185-527a618d2343",
        "outputId": "9df7fc03-b765-46ab-9ed3-55ec1e3c3720"
      },
      "outputs": [
        {
          "output_type": "stream",
          "name": "stdout",
          "text": [
            "Looking in indexes: https://pypi.org/simple, https://us-python.pkg.dev/colab-wheels/public/simple/\n",
            "Requirement already satisfied: scikit-learn in /usr/local/lib/python3.9/dist-packages (1.2.2)\n",
            "Requirement already satisfied: numpy>=1.17.3 in /usr/local/lib/python3.9/dist-packages (from scikit-learn) (1.22.4)\n",
            "Requirement already satisfied: threadpoolctl>=2.0.0 in /usr/local/lib/python3.9/dist-packages (from scikit-learn) (3.1.0)\n",
            "Requirement already satisfied: scipy>=1.3.2 in /usr/local/lib/python3.9/dist-packages (from scikit-learn) (1.10.1)\n",
            "Requirement already satisfied: joblib>=1.1.1 in /usr/local/lib/python3.9/dist-packages (from scikit-learn) (1.1.1)\n"
          ]
        }
      ],
      "source": [
        "!pip install scikit-learn\n",
        "from sklearn import datasets\n",
        "iris = datasets.load_iris()\n"
      ]
    },
    {
      "cell_type": "code",
      "source": [
        "from pandas import DataFrame\n",
        "import matplotlib.pyplot as plt\n",
        "iris_frame = DataFrame(iris.data)\n",
        "iris_frame.columns = iris.feature_names\n",
        "iris_frame['target'] = iris.target\n",
        "iris_frame['name'] = iris_frame.target.apply(lambda x : iris.target_names[x])\n",
        "first = iris_frame[iris_frame['target'] == 0]\n",
        "second = iris_frame[iris_frame['target'] == 1]\n",
        "third = iris_frame[iris_frame['target'] == 2]\n",
        "x1 = first['sepal length (cm)']\n",
        "y1 = first ['petal length (cm)']\n",
        "plt.scatter(x1, y1, c =\"pink\",\n",
        "            linewidths = 2,\n",
        "            marker =\"s\",\n",
        "            edgecolor =\"green\",\n",
        "            s = 100)\n",
        "x2 = second['sepal length (cm)']\n",
        "y2 = second['petal length (cm)']\n",
        "plt.scatter(x2, y2, c =\"yellow\",\n",
        "            linewidths = 2,\n",
        "            marker =\"^\",\n",
        "            edgecolor =\"red\",\n",
        "            s = 100)\n",
        "x3 = third['sepal length (cm)']\n",
        "y3 = third['petal length (cm)']\n",
        "plt.scatter(x3, y3, c =\"green\",\n",
        "            linewidths = 2,\n",
        "            marker =\"o\",\n",
        "            edgecolor =\"blue\",\n",
        "            s = 100)\n",
        "plt.legend([\"setosa\" , \"versicolor\", \"virginica\"])\n",
        "plt.xlabel('Sepal length [cm]')\n",
        "plt.ylabel('Petal length [cm]')\n",
        "plt.show()"
      ],
      "metadata": {
        "colab": {
          "base_uri": "https://localhost:8080/",
          "height": 279
        },
        "id": "pze4j1-FReS3",
        "outputId": "2521089a-0dde-4d89-d1a7-b1d1e7e3da6f"
      },
      "id": "pze4j1-FReS3",
      "execution_count": 77,
      "outputs": [
        {
          "output_type": "display_data",
          "data": {
            "text/plain": [
              "<Figure size 432x288 with 1 Axes>"
            ],
            "image/png": "[encoded data removed]"
          },
          "metadata": {
            "needs_background": "light"
          }
        }
      ]
    },
    {
      "cell_type": "code",
      "source": [
        "fin = iris_frame.drop(columns = ['sepal width (cm)', 'petal width (cm)', 'target', 'name'])"
      ],
      "metadata": {
        "id": "0FnadKKA1Vjc"
      },
      "id": "0FnadKKA1Vjc",
      "execution_count": 78,
      "outputs": []
    },
    {
      "cell_type": "markdown",
      "id": "a56b0e5b-4cc2-4dc9-bfe3-14dbe456e00e",
      "metadata": {
        "id": "a56b0e5b-4cc2-4dc9-bfe3-14dbe456e00e"
      },
      "source": [
        "## Задание 3"
      ]
    },
    {
      "cell_type": "code",
      "execution_count": 81,
      "id": "508c95f5-1b68-4a62-be74-f11e5894439f",
      "metadata": {
        "id": "508c95f5-1b68-4a62-be74-f11e5894439f"
      },
      "outputs": [],
      "source": [
        "from sklearn.model_selection import train_test_split\n",
        "X_train, X_test, Y_train, Y_test = train_test_split(fin, iris_frame['target'],test_size=0.2, random_state=42)"
      ]
    },
    {
      "cell_type": "code",
      "source": [
        "from sklearn.tree import DecisionTreeClassifier\n",
        "from sklearn.metrics import accuracy_score\n",
        "clf = DecisionTreeClassifier(max_depth = 2, \n",
        "                             random_state = 0)\n",
        "clf.fit(X_train, Y_train)\n",
        "accuracy = clf.score(X_test, Y_test)\n",
        "print(round(accuracy,3))"
      ],
      "metadata": {
        "colab": {
          "base_uri": "https://localhost:8080/"
        },
        "id": "sfaTozVM1Dfa",
        "outputId": "f557adf1-a9f9-4472-ea45-855814b2508d"
      },
      "id": "sfaTozVM1Dfa",
      "execution_count": 82,
      "outputs": [
        {
          "output_type": "stream",
          "name": "stdout",
          "text": [
            "0.967\n"
          ]
        }
      ]
    },
    {
      "cell_type": "markdown",
      "id": "5c0dd239-6681-4daf-809d-7433e7500fb4",
      "metadata": {
        "id": "5c0dd239-6681-4daf-809d-7433e7500fb4"
      },
      "source": [
        "## Задание 4"
      ]
    },
    {
      "cell_type": "code",
      "execution_count": 83,
      "id": "04ec590f-d54b-47a0-92b5-db466fbf49c1",
      "metadata": {
        "colab": {
          "base_uri": "https://localhost:8080/",
          "height": 532
        },
        "id": "04ec590f-d54b-47a0-92b5-db466fbf49c1",
        "outputId": "4a713148-065f-4001-ce43-2226295b85cd"
      },
      "outputs": [
        {
          "output_type": "display_data",
          "data": {
            "text/plain": [
              "<Figure size 432x288 with 1 Axes>"
            ],
            "image/png": "[encoded data removed]"
          },
          "metadata": {
            "needs_background": "light"
          }
        },
        {
          "output_type": "stream",
          "name": "stdout",
          "text": [
            "Количество листьев дерева:  3\n"
          ]
        },
        {
          "output_type": "display_data",
          "data": {
            "text/plain": [
              "<Figure size 432x288 with 1 Axes>"
            ],
            "image/png": "[encoded data removed]"
          },
          "metadata": {
            "needs_background": "light"
          }
        }
      ],
      "source": [
        "from sklearn import tree\n",
        "from sklearn import svm\n",
        "from sklearn import datasets\n",
        "tree.plot_tree(clf)\n",
        "plt.show()\n",
        "n_leaves = clf.tree_.n_leaves\n",
        "print(\"Количество листьев дерева: \", n_leaves)\n",
        "\n",
        "iris = datasets.load_iris()\n",
        "df = pd.DataFrame(iris.data, columns=iris.feature_names)\n",
        "X = df[['sepal length (cm)', 'petal length (cm)']].values\n",
        "y = iris.target\n",
        "\n",
        "clf1 = svm.SVC(kernel='linear')\n",
        "clf1.fit(X, y)\n",
        "\n",
        "plt.scatter(X[:, 0], X[:, 1], c=y, cmap=plt.cm.Set1, edgecolor='k')\n",
        "plt.xlabel('Длина чашелистика')\n",
        "plt.ylabel('Длина лепестка')\n",
        "\n",
        "w = clf1.coef_[0]\n",
        "a = -w[0] / w[1]\n",
        "xx = np.linspace(4, 8)\n",
        "yy = a * xx - (clf1.intercept_[0]) / w[1]\n",
        "\n",
        "\n",
        "plt.plot(xx, yy, 'k')\n",
        "\n",
        "plt.xlim(4, 8)\n",
        "plt.ylim(0, 7)\n",
        "\n",
        "plt.show()"
      ]
    },
    {
      "cell_type": "markdown",
      "id": "c672389a-fb63-4fb3-8bac-f4eca902d8cd",
      "metadata": {
        "id": "c672389a-fb63-4fb3-8bac-f4eca902d8cd"
      },
      "source": [
        "У получившегося дерева 3 листа"
      ]
    },
    {
      "cell_type": "markdown",
      "id": "596aacf0-c7a5-4e0d-9141-b1d2b9e06a08",
      "metadata": {
        "id": "596aacf0-c7a5-4e0d-9141-b1d2b9e06a08"
      },
      "source": [
        "## Задание 5"
      ]
    },
    {
      "cell_type": "code",
      "source": [
        "from sklearn import preprocessing\n",
        "from sklearn import utils\n",
        "from sklearn.metrics import accuracy_score\n",
        "from sklearn.tree import DecisionTreeRegressor\n",
        "\n",
        "def generate_sin(sample_size, n=1):\n",
        "    np.random.seed(42)\n",
        "    X = np.random.random((sample_size, n))*3\n",
        "    coeffs = 1 + 2 * np.random.random((n, 1))\n",
        "    y = np.sin(np.matmul(X*X, coeffs)) + np.random.random((sample_size, 1))\n",
        "    return X, y\n",
        "\n",
        "\n",
        "\n",
        "X, y = generate_sin(250)\n",
        "y = y.ravel()\n",
        "\n",
        "X_train, X_test, y_train, y_test = train_test_split(X, y, test_size=0.2, random_state=42)\n",
        "\n",
        "model = DecisionTreeRegressor(max_depth=1)\n",
        "model.fit(X_train, y_train)\n",
        "\n",
        "y_pred = model.predict(X_test)\n",
        "\n",
        "\n",
        "\n",
        "fig, ax = plt.subplots()\n",
        "ax.scatter(X_test, y_test, label='True Values')\n",
        "ax.scatter(X_test, y_pred, color='r', label='Predicted Values')\n",
        "ax.legend()\n",
        "ax.set_title('True vs Predicted Values')\n",
        "plt.show()"
      ],
      "metadata": {
        "id": "rlPpHkHdEI_w",
        "colab": {
          "base_uri": "https://localhost:8080/",
          "height": 281
        },
        "outputId": "bc2c0d8b-26bb-47d0-9b17-88aef52a1dad"
      },
      "id": "rlPpHkHdEI_w",
      "execution_count": 84,
      "outputs": [
        {
          "output_type": "display_data",
          "data": {
            "text/plain": [
              "<Figure size 432x288 with 1 Axes>"
            ],
            "image/png": "[encoded data removed]"
          },
          "metadata": {
            "needs_background": "light"
          }
        }
      ]
    },
    {
      "cell_type": "markdown",
      "id": "0ffa7193-1e28-4a40-9303-df947ecb4211",
      "metadata": {
        "id": "0ffa7193-1e28-4a40-9303-df947ecb4211"
      },
      "source": [
        "## Задание 6"
      ]
    },
    {
      "cell_type": "code",
      "execution_count": 85,
      "id": "5a7dbac6-e7c1-4029-9a73-b037dfe04a99",
      "metadata": {
        "id": "5a7dbac6-e7c1-4029-9a73-b037dfe04a99",
        "colab": {
          "base_uri": "https://localhost:8080/",
          "height": 313
        },
        "outputId": "52aa7587-d744-4bfd-c8c9-10efb7c51f7c"
      },
      "outputs": [
        {
          "output_type": "stream",
          "name": "stdout",
          "text": [
            "MSE: 0.44151173144970934\n"
          ]
        },
        {
          "output_type": "display_data",
          "data": {
            "text/plain": [
              "<Figure size 432x288 with 1 Axes>"
            ],
            "image/png": "[encoded data removed]"
          },
          "metadata": {
            "needs_background": "light"
          }
        }
      ],
      "source": [
        "from sklearn.metrics import mean_squared_error\n",
        "\n",
        "\n",
        "mse = mean_squared_error(y_test, y_pred)\n",
        "print('MSE:', mse)\n",
        "\n",
        "\n",
        "mse_values = []\n",
        "for depth in range(1, 31):\n",
        "    model = DecisionTreeRegressor(max_depth=depth)\n",
        "    model.fit(X_train, y_train)\n",
        "    y_pred = model.predict(X_test)\n",
        "    mse = mean_squared_error(y_test, y_pred)\n",
        "    mse_values.append(mse)\n",
        "\n",
        "\n",
        "fig, ax = plt.subplots()\n",
        "ax.plot(range(1, 31), mse_values)\n",
        "ax.set_title('MSE vs Depth')\n",
        "ax.set_xlabel('Depth')\n",
        "ax.set_ylabel('MSE')\n",
        "plt.show()"
      ]
    },
    {
      "cell_type": "markdown",
      "id": "6a661db2-01ae-41ce-9b11-cfc0c29320ad",
      "metadata": {
        "id": "6a661db2-01ae-41ce-9b11-cfc0c29320ad"
      },
      "source": [
        "Глубина дерева, на котором MSE на тестовой выборке наилучший: 5__"
      ]
    },
    {
      "cell_type": "markdown",
      "id": "cbdf6dfa-15cb-4bb5-9626-5735eaecfc30",
      "metadata": {
        "id": "cbdf6dfa-15cb-4bb5-9626-5735eaecfc30"
      },
      "source": [
        "## Задание 7"
      ]
    },
    {
      "cell_type": "code",
      "execution_count": 88,
      "id": "ace12228-2ffb-426e-8e60-a9feacf67343",
      "metadata": {
        "id": "ace12228-2ffb-426e-8e60-a9feacf67343",
        "colab": {
          "base_uri": "https://localhost:8080/",
          "height": 297
        },
        "outputId": "26774e19-8605-4a10-ed2f-ffbf3e466561"
      },
      "outputs": [
        {
          "output_type": "stream",
          "name": "stdout",
          "text": [
            "MSE на тестовой выборке: 0.12085852532389833\n"
          ]
        },
        {
          "output_type": "display_data",
          "data": {
            "text/plain": [
              "<Figure size 432x288 with 1 Axes>"
            ],
            "image/png": "[encoded data removed]"
          },
          "metadata": {
            "needs_background": "light"
          }
        }
      ],
      "source": [
        "from sklearn.ensemble import BaggingRegressor\n",
        "\n",
        "#Обучаем 10 деревьев решений глубиной 5\n",
        "model = BaggingRegressor(estimator=DecisionTreeRegressor(max_depth=5), n_estimators=10, bootstrap=True, random_state=42)\n",
        "model.fit(X_train, y_train)\n",
        "\n",
        "y_pred = model.predict(X_test)\n",
        "mse = mean_squared_error(y_test, y_pred)\n",
        "print(\"MSE на тестовой выборке:\", mse)\n",
        "\n",
        "\n",
        "mse_list = []\n",
        "for n_estimators in range(1, 51):\n",
        "    model = BaggingRegressor(estimator=DecisionTreeRegressor(max_depth=5), n_estimators=n_estimators, bootstrap=True, random_state=42)\n",
        "    model.fit(X_train, y_train)\n",
        "    y_pred = model.predict(X_test)\n",
        "    mse = mean_squared_error(y_test, y_pred)\n",
        "    mse_list.append(mse)\n",
        "\n",
        "plt.plot(range(1, 51), mse_list)\n",
        "plt.xlabel(\"Number of trees\")\n",
        "plt.ylabel(\"MSE\")\n",
        "plt.show()\n",
        "#На графике мы можем видеть, что наилучшее качество модели достигается при количестве деревьев около 17-18."
      ]
    },
    {
      "cell_type": "markdown",
      "id": "60460e44-7bf1-414c-8b0c-ad9dc4280d35",
      "metadata": {
        "id": "60460e44-7bf1-414c-8b0c-ad9dc4280d35"
      },
      "source": [
        "Количество деревьев решений, при котором MSE на тестовой выборке наилучший: 17-18"
      ]
    },
    {
      "cell_type": "markdown",
      "id": "fc9cdd44-dc9d-4493-9d5f-06f9069e4d20",
      "metadata": {
        "id": "fc9cdd44-dc9d-4493-9d5f-06f9069e4d20"
      },
      "source": [
        "## Задание 8"
      ]
    },
    {
      "cell_type": "code",
      "execution_count": 89,
      "id": "079eae3d-19d5-451a-9e8e-92092680900e",
      "metadata": {
        "id": "079eae3d-19d5-451a-9e8e-92092680900e",
        "colab": {
          "base_uri": "https://localhost:8080/"
        },
        "outputId": "93f30345-8b96-412f-8045-618569a6a970"
      },
      "outputs": [
        {
          "output_type": "stream",
          "name": "stdout",
          "text": [
            "MSE на тестовой выборке: 0.123\n"
          ]
        }
      ],
      "source": [
        "from sklearn.ensemble import RandomForestRegressor\n",
        "\n",
        "model = RandomForestRegressor(max_depth=5, n_estimators=100, max_features=1, random_state=42)\n",
        "model.fit(X_train, y_train)\n",
        "y_pred = model.predict(X_test)\n",
        "mse = mean_squared_error(y_test, y_pred)\n",
        "print(\"MSE на тестовой выборке:\", round(mse,3))\n"
      ]
    }
  ],
  "metadata": {
    "kernelspec": {
      "display_name": "Python 3 (ipykernel)",
      "language": "python",
      "name": "python3"
    },
    "language_info": {
      "codemirror_mode": {
        "name": "ipython",
        "version": 3
      },
      "file_extension": ".py",
      "mimetype": "text/x-python",
      "name": "python",
      "nbconvert_exporter": "python",
      "pygments_lexer": "ipython3",
      "version": "3.9.6"
    },
    "colab": {
      "provenance": []
    }
  },
  "nbformat": 4,
  "nbformat_minor": 5
}