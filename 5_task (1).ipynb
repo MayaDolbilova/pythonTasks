{
 "cells": [
  {
   "cell_type": "markdown",
   "id": "0dd5e3f2",
   "metadata": {},
   "source": [
    "You have two lists, the first contains the names of the guests, and the second contains their favorite dishes. You need to print out their preferences so that a sentence like “Eric loves borsch” is displayed. It is guaranteed that the lists are of the same length.\n",
    "\n",
    "INPUT FORMAT:\n",
    "\n",
    "Two lines. The first line contains names separated by a space. The second line contains the names of the dishes separated by a space.\n",
    "\n",
    "OUTPUT FORMAT:\n",
    "\n",
    "A set of strings like '{name} likes {dish}\n",
    "\n",
    "Example:\n",
    "\n",
    "Line1 = Peter Kate John\n",
    "\n",
    "Line2 = Pudding Fish Cake\n",
    "\n",
    "Output:\n",
    "\n",
    " Peter likes Pudding\n",
    "\n",
    " Kate likes Fish\n",
    "\n",
    " John likes Cake"
   ]
  },
  {
   "cell_type": "code",
   "execution_count": 22,
   "id": "ea6b6fd2",
   "metadata": {},
   "outputs": [
    {
     "name": "stdout",
     "output_type": "stream",
     "text": [
      "Give names\n",
      "Катя Настя Маша Сережа Женя\n",
      "Give dishes\n",
      "Солянка Цезарь Макароны\n",
      "Not enough dishes. Give 2  more\n",
      "Рагу\n",
      "Лазанья\n",
      "Катя loves Солянка\n",
      "Настя loves Цезарь\n",
      "Маша loves Макароны\n",
      "Сережа loves Рагу\n",
      "Женя loves Лазанья\n"
     ]
    }
   ],
   "source": [
    "name_l=input(\"Give names\\n\")\n",
    "dishes_l=input(\"Give dishes\\n\")\n",
    "a=name_l.split(\" \")\n",
    "b=dishes_l.split(\" \")\n",
    "if len(a)!=len(b):\n",
    "    if len(a)>len(b):\n",
    "        d=len(a)-len(b)\n",
    "        print(\"Not enough dishes. Give\",d,\" more\")\n",
    "        c=0\n",
    "        while c<d:\n",
    "            more_dishes=input()\n",
    "            b.append(more_dishes)\n",
    "            c+=1\n",
    "    else:\n",
    "        print(\"Too many dishes. We'll delite extra dishes.\")\n",
    "        f=len(b)-len(a)\n",
    "        l=0\n",
    "        while l<f:\n",
    "            b.pop(-1)\n",
    "            l+=1\n",
    "i=0\n",
    "while i<len(a):\n",
    "    print(a[i],\"likes\",b[i])\n",
    "    i+=1"
   ]
  },
  {
   "cell_type": "code",
   "execution_count": null,
   "id": "3ec021c3",
   "metadata": {},
   "outputs": [],
   "source": []
  }
 ],
 "metadata": {
  "kernelspec": {
   "display_name": "Python 3",
   "language": "python",
   "name": "python3"
  }
 },
 "nbformat": 4,
 "nbformat_minor": 5
}
